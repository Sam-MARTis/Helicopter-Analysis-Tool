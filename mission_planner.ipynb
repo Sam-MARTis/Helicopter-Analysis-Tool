{
 "cells": [
  {
   "cell_type": "code",
   "execution_count": null,
   "id": "6a9295a3",
   "metadata": {},
   "outputs": [],
   "source": [
    "class Helicopter:\n",
    "    def __init__(self):\n",
    "        self.altitude = 0.0\n",
    "        pass\n",
    "        \n",
    "\n",
    "    def find_power_needed(self, weight: float, forward_velocity: float, vertical_velocity: float) -> float:\n",
    "        pass\n",
    "        return 0.0\n",
    "\n",
    "    def is_helicopter_stalling(self, weight: float, forward_velocity: float, vertical_velocity: float) -> bool:\n",
    "        pass\n",
    "        return False\n",
    "\n",
    "    \n",
    "    \n",
    "    "
   ]
  },
  {
   "cell_type": "code",
   "execution_count": null,
   "id": "0c0e8ec5",
   "metadata": {},
   "outputs": [],
   "source": [
    "class MissionPlanner:\n",
    "    def __init__(self, heli: Helicopter):\n",
    "        self.flight_parameters_set: bool = False\n",
    "        self.helicopter = heli\n",
    "        self.flight_path: list[int] = []\n",
    "        \n",
    "    def set_flight_parameters(self):\n",
    "        self.flight_parameters_set = True\n",
    "        self.dry_weight = float(input(\"Enter the dry weight of the helicopter in kg: \"))\n",
    "        self.fuel_weight = float(input(\"Enter the fuel weight of the helicopter in kg: \"))\n",
    "        reserve_fuel_fraction  = float(input(\"Enter the reserve fuel fraction (e.g., 0.2 for 20%): \"))\n",
    "        self.min_fuel = self.fuel_weight * reserve_fuel_fraction\n",
    "        self.max_fuel = self.fuel_weight\n",
    "        \n",
    "    def set_flight_path(self):\n",
    "        if not self.flight_parameters_set:\n",
    "            print(\"Flight parameters not set. Please set them first.\")\n",
    "            return\n",
    "        \n",
    "        \n"
   ]
  }
 ],
 "metadata": {
  "language_info": {
   "name": "python"
  }
 },
 "nbformat": 4,
 "nbformat_minor": 5
}
