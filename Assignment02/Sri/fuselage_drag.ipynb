{
 "cells": [
  {
   "cell_type": "code",
   "execution_count": 5,
   "id": "3170b4c6",
   "metadata": {},
   "outputs": [
    {
     "data": {
      "text/plain": [
       "np.float64(54187.545295021184)"
      ]
     },
     "execution_count": 5,
     "metadata": {},
     "output_type": "execute_result"
    }
   ],
   "source": [
    "import numpy as np\n",
    "from typing import Optional\n",
    "\n",
    "class fuselage:\n",
    "    def __init__(self) -> None:\n",
    "        self.length: Optional[float] = 18\n",
    "        self.diameter: Optional[float] = 2\n",
    "\n",
    "        self.tailboom_length: Optional[float] = 8\n",
    "        self.tailboom_diameter: Optional[float] = 0.7\n",
    "\n",
    "        self.hrztail_h: Optional[float] = 1.5\n",
    "        self.hrztail_b: Optional[float] = 0.5\n",
    "        self.hrztail_t: Optional[float] = 0.3\n",
    "\n",
    "        self.velocity: Optional[float] = 100\n",
    "        self.density: Optional[float] = 1.0\n",
    "\n",
    "    # backwards drag\n",
    "    def Re_back_body(self):\n",
    "        rho = self.density\n",
    "        velocity = self.velocity\n",
    "        d = self.length\n",
    "        nu = 0.00002\n",
    "\n",
    "        return (rho*velocity*d)/nu\n",
    "    \n",
    "    def D1(self) -> float:\n",
    "        Re = self.Re_back_body()\n",
    "        cd = (0.455/(np.log10(Re))) - (1700/Re)\n",
    "        SA = (np.pi)*self.diameter*self.length\n",
    "\n",
    "        return SA*cd\n",
    "    \n",
    "    def Re_back_tail(self):\n",
    "        rho = self.density\n",
    "        velocity = self.velocity\n",
    "        d = self.tailboom_length\n",
    "        nu = 0.00002\n",
    "\n",
    "        return (rho*velocity*d)/nu\n",
    "    \n",
    "    def D2(self) -> float:\n",
    "        Re = self.Re_back_tail()\n",
    "        cd = (0.455/(np.log10(Re))) - (1700/Re)\n",
    "        SA = (np.pi)*self.tailboom_diameter*self.length\n",
    "\n",
    "        return SA*cd\n",
    "    \n",
    "    def Re_back_hrztail(self):\n",
    "        rho = self.density\n",
    "        velocity = self.velocity\n",
    "        d = self.hrztail_b\n",
    "        nu = 0.00002200\n",
    "\n",
    "        return (rho*velocity*d)/nu\n",
    "    \n",
    "    def D3(self) -> float:\n",
    "        Re = self.Re_back_hrztail()\n",
    "        cd = (0.455/(np.log10(Re))) - (1700/Re)\n",
    "        SA = (np.pi)*self.hrztail_b*self.length\n",
    "\n",
    "        return SA*cd\n",
    "    \n",
    "    def output(self, ρ, v):\n",
    "        self.velocity = v\n",
    "        return (self.D1() + self.D2() + self.D3()) * 0.5 * ρ * v**2\n",
    "\n",
    "#calling function\n",
    "drag = fuselage()\n",
    "drag.output(1, 100)"
   ]
  },
  {
   "cell_type": "code",
   "execution_count": null,
   "id": "40d084ae",
   "metadata": {},
   "outputs": [],
   "source": []
  },
  {
   "cell_type": "code",
   "execution_count": null,
   "id": "7f9d8648",
   "metadata": {},
   "outputs": [],
   "source": []
  }
 ],
 "metadata": {
  "kernelspec": {
   "display_name": "Code",
   "language": "python",
   "name": "python3"
  },
  "language_info": {
   "codemirror_mode": {
    "name": "ipython",
    "version": 3
   },
   "file_extension": ".py",
   "mimetype": "text/x-python",
   "name": "python",
   "nbconvert_exporter": "python",
   "pygments_lexer": "ipython3",
   "version": "3.12.3"
  }
 },
 "nbformat": 4,
 "nbformat_minor": 5
}
