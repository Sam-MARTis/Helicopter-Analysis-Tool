{
  "cells": [
    {
      "cell_type": "markdown",
      "metadata": {
        "id": "LAyLBJDrnzOO"
      },
      "source": [
        "#Importing required Libraries"
      ]
    },
    {
      "cell_type": "code",
      "execution_count": 1,
      "metadata": {
        "id": "cTacD8QutJwu"
      },
      "outputs": [],
      "source": [
        "import numpy as np\n",
        "import matplotlib.pyplot as plt\n",
        "import pandas as pd"
      ]
    },
    {
      "cell_type": "markdown",
      "metadata": {
        "id": "yRvk9m_-80Qg"
      },
      "source": [
        "#Aircraft Fuselage Parameters from the user\n"
      ]
    },
    {
      "cell_type": "code",
      "execution_count": 4,
      "metadata": {},
      "outputs": [],
      "source": [
        "\n",
        "class Environment:\n",
        "    def __init__(self):\n",
        "        self.environment_set:bool = False\n",
        "        self.temperature_sea_level: float = None\n",
        "        self.Reynolds_number: float = None\n",
        "        self.altitude: float = None\n",
        "        self.pressure_sea_level: float = None\n",
        "        self.Lapse_rate_troposphere: float = None\n",
        "        self.Specific_gas_constant: float = 287.053   # constant\n",
        "        self.gravitational_acceleration: float = 9.80665  # constant\n",
        "        self.specific_heat_constant: float = 1.4      # constant\n",
        "        self.wind_velocity: float = None\n",
        "        self.ISA_OFFSET: float = None\n",
        "\n",
        "\n",
        "    def get_atmosphere_parameters(self):\n",
        "        self.environment_set = True\n",
        "        self.temperature_sea_level = float(input(\"Please enter the sea level temperature (K): \"))\n",
        "        self.Reynolds_number = float(input(\"Please enter the Reynolds number: \"))\n",
        "        self.altitude = float(input(\"Please enter the altitude (m): \"))\n",
        "        self.pressure_sea_level = float(input(\"Please enter the pressure at sea level (Pa): \"))\n",
        "        self.Lapse_rate_troposphere = float(input(\"Please enter the lapse rate of the troposphere (K/m): \"))\n",
        "        self.wind_velocity = float(input(\"Please enter the wind velocity (m/s): \"))\n",
        "        self.ISA_OFFSET = float(input(\"Please enter the ISA offset (K): \"))\n",
        "        \n",
        "    def Temp(self, altitude):\n",
        "        if not self.environment_set:\n",
        "            raise ValueError(\"Environment parameters have not been set.\")\n",
        "        T_new = self.temperature_sea_level + self.Lapse_rate_troposphere * altitude + self.ISA_OFFSET\n",
        "        return T_new\n",
        "    def Pressure(self, T_new):\n",
        "        if not self.environment_set:\n",
        "            raise ValueError(\"Environment parameters have not been set.\")\n",
        "        P_new = self.pressure_sea_level * ((T_new / self.temperature_sea_level) ** (self.gravitational_acceleration / self.Lapse_rate_troposphere * self.Specific_gas_constant))\n",
        "        return P_new\n",
        "\n",
        "    def speed_of_sound(self, temperature):\n",
        "        if not self.environment_set:\n",
        "            raise ValueError(\"Environment parameters have not been set.\")\n",
        "        return np.sqrt(1.4 * 287 * temperature)\n",
        "\n",
        "    def mach_number(self, velocity, speed_of_sound):\n",
        "        if not self.environment_set:\n",
        "            raise ValueError(\"Environment parameters have not been set.\")\n",
        "        return velocity / speed_of_sound\n",
        "\n",
        "    def density(self, temperature, pressure):\n",
        "        if not self.environment_set:\n",
        "            raise ValueError(\"Environment parameters have not been set.\")\n",
        "        return pressure / (287 * temperature)"
      ]
    },
    {
      "cell_type": "code",
      "execution_count": null,
      "metadata": {},
      "outputs": [],
      "source": [
        "\n",
        "\n",
        "class Rotor:\n",
        "    def __init__(self):\n",
        "        self.parameters_set:bool = False\n",
        "        \n",
        "\n",
        "    def get_rotor_parameters(self):\n",
        "        self.parameters_set = True\n",
        "        self.number_of_blades = int(input(\"Please enter the number of rotors: \"))\n",
        "        self.omega = float(input(\"Please enter the angular velocity of the rotor (rad/s): \"))#rotor_omega=2*np.pi*rotor_rpm/60\n",
        "        self.blade_mass = float(input(\"Please enter the mass of the rotors (kg): \"))\n",
        "        self.NACA_for_airfoil = input(\"Please enter the NACA number of the airfoil: \")\n",
        "        self.radius_of_rotors = float(input(\"Please enter the radius of the rotors (m): \"))\n",
        "        self.root_cutout = float(input(\"Please enter the root cutout of the rotors (m): \"))\n",
        "        self.angle_of_attack = (np.pi/180) * float(input(\"Please enter the angle of attack (degrees): \"))\n",
        "        self.root_chord = float(input(\"Please enter the root chord (m): \"))\n",
        "        self.tip_chord = float(input(\"Please enter the tip chord (m): \"))\n",
        "        self.root_pitch = (np.pi/180) * float(input(\"Please enter the root pitch (degrees): \"))\n",
        "        self.slope_pitch = float(input(\"Please enter the slope of the pitch: \"))\n",
        "        # self.climb_velocity = float(input(\"Please enter the desired climb velocity (m/s): \"))\n",
        "    def get_chord_length(self, x):\n",
        "        chord_length_x = (self.root_chord - ((self.root_chord - self.tip_chord) / (self.radius_of_rotors - self.root_cutout)) * x)\n",
        "        return chord_length_x\n",
        "\n",
        "    def pitch(self, x):  # Basically involving twists\n",
        "        local_pitch = self.root_pitch + self.slope_pitch * x\n",
        "        return local_pitch\n",
        "\n",
        "    def elemental_inflow_ratio(self, r_distance, climb_velocity, max_iter=100):\n",
        "        lambda_c=climb_velocity/(self.omega*self.radius_of_rotors)\n",
        "        sigma=(self.number_of_blades*(0.5*(self.root_chord+self.tip_chord)*(self.radius_of_rotors- self.root_cutout)))/(np.pi*(self.radius_of_rotors**2))\n",
        "        cl=0.7\n",
        "        a=cl/self.angle_of_attack\n",
        "\n",
        "        # Initial guess values to start with\n",
        "        F = 1.1\n",
        "\n",
        "        lambda_inflow = 0.2\n",
        "\n",
        "        for i in range(max_iter):\n",
        "            theta = self.pitch(r_distance)\n",
        "\n",
        "            #  geting the  Cl (lift coefficient)\n",
        "\n",
        "\n",
        "            # Update lambda_inflow using current F\n",
        "            new_lambda_inflow = (\n",
        "                np.sqrt(((sigma * a) / (16 * F) - (lambda_c / 2))**2\n",
        "                        + (sigma * a) / (8 * F) * theta * (r_distance / self.radius_of_rotors))\n",
        "                - ((sigma * a) / (16 * F) - (lambda_c / 2))\n",
        "            )\n",
        "\n",
        "\n",
        "            # Update F using the new lambda_inflow (Gauss–Seidel step)\n",
        "            f = (self.number_of_blades / 2) * ((1 - r_distance / self.radius_of_rotors) / new_lambda_inflow)\n",
        "\n",
        "            new_F = (2 / np.pi) * np.arccos(np.exp(-f))\n",
        "            \n",
        "            F = new_F\n",
        "            lambda_inflow = new_lambda_inflow\n",
        "\n",
        "            # Check convergence\n",
        "            \"\"\"if abs(new_lambda_inflow - lambda_inflow) < tol and abs(new_F - F) < tol:\n",
        "                return new_lambda_inflow, new_F\n",
        "\n",
        "            # Update values for next iteration\n",
        "            lambda_inflow, F = new_lambda_inflow, new_F\"\"\"\n",
        "\n",
        "        return lambda_inflow, F\n",
        "\n",
        "\n",
        "    def elemental_thrust(self, r_distance, dr, climb_velocity):\n",
        "        c, b = self.elemental_inflow_ratio(r_distance, climb_velocity)\n",
        "        density = 5\n",
        "        dT = 4 * np.pi * density * r_distance * (c * self.omega * self.radius_of_rotors) * ((c * self.omega * self.radius_of_rotors) - climb_velocity) * dr\n",
        "        return dT\n",
        "\n",
        "    def total_thrust(self, climb_velocity,  n_divisions=50):\n",
        "        if self.parameters_set == False:\n",
        "            raise ValueError(\"Rotor parameters have not been set.\")\n",
        "        \n",
        "        r=np.linspace(self.root_cutout, self.radius_of_rotors, n_divisions)\n",
        "        delta_r=r[1]-r[0]\n",
        "        store_dT=[]\n",
        "        for i in range(1, n_divisions-1):\n",
        "            store_dT.append(self.elemental_thrust(r[i], delta_r, climb_velocity))\n",
        "        net_thrust = self.number_of_blades * np.sum(store_dT)\n",
        "        return net_thrust\n",
        "\n"
      ]
    },
    {
      "cell_type": "code",
      "execution_count": 6,
      "metadata": {},
      "outputs": [],
      "source": [
        "\n",
        "class Helicopter: \n",
        "    def __init__(self, environment: Environment):\n",
        "        self.environment: Environment = environment\n",
        "        self.fuselage_set: bool = False\n",
        "        self.engine_set:bool = False\n",
        "        self.rotor_set: bool = False\n",
        "        self.climb_velocity:float = 0\n",
        "        self.rotor:Rotor = None\n",
        "\n",
        "\n",
        "    def get_fuselage_parameters(self):\n",
        "        self.fuselage_set = True\n",
        "        self.fuselage_mass = float(input(\"Please enter the fuselage mass (kg): \"))\n",
        "        self.fuselage_length = float(input(\"Please enter the fuselage length (m): \"))\n",
        "        self.fuselage_width = float(input(\"Please enter the fuselage width (m): \"))\n",
        "        self.fuselage_height = float(input(\"Please enter the fuselage height (m): \"))\n",
        "        self.fuselage_cl = float(input(\"Please enter the fuselage lift coefficient (Cl): \"))\n",
        "        self.fuselage_cd = float(input(\"Please enter the fuselage drag coefficient (Cd): \"))\n",
        "        \n",
        "        \n",
        "    def get_rotor_parameters(self):\n",
        "        self.rotor = Rotor()\n",
        "        self.rotor_set = True\n",
        "        self.rotor.get_rotor_parameters()\n",
        "        self.climb_velocity = float(input(\"Please enter the desired climb velocity (m/s): \"))\n",
        "        \n",
        "    def get_engine_parameters(self):\n",
        "        self.engine_set = True\n",
        "        self.engine_mass = float(input(\"Please enter the mass of the engine (kg): \"))\n",
        "        self.engine_BSFC = float(input(\"Please enter the BSFC of the engine (kg/kWh): \"))\n",
        "        self.engine_shaft_power_conversion_efficiency = float(input(\"Please enter the shaft power conversion efficiency: \"))\n",
        "        self.engine_fractional_power_tail_rotor = float(input(\"Please enter the fractional power of the tail rotor: \"))"
      ]
    },
    {
      "cell_type": "code",
      "execution_count": null,
      "metadata": {
        "id": "6S3KyDOY7XUx"
      },
      "outputs": [],
      "source": [
        "\n",
        "\n",
        "# #fuselage parameters\n",
        "# def get_fuselage_parameters():\n",
        "#   fuselage={}\n",
        "#   fuselage[\"mass\"]=float(input(\"Please enter the mass of the fuselage:\"))\n",
        "#   fuselage[\"length\"]=float(input(\"Please enter the length of the fuselage:\"))\n",
        "#   fuselage[\"width\"]=float(input(\"Please enter the width of the fuselage:\"))\n",
        "#   fuselage[\"height\"]=float(input(\"Please enter the height of the fuselage:\"))\n",
        "#   fuselage[\"CL\"]=float(input(\"Please enter the CL of the fuselage:\"))\n",
        "#   fuselage[\"CD\"]=float(input(\"Please enter the CD of the fuselage:\"))\n",
        "#   return fuselage"
      ]
    },
    {
      "cell_type": "markdown",
      "metadata": {
        "id": "7Fd_AFlxPzlc"
      },
      "source": [
        "# Aircraft engine parameters"
      ]
    },
    {
      "cell_type": "code",
      "execution_count": null,
      "metadata": {
        "id": "-QtfAvquP4og"
      },
      "outputs": [],
      "source": [
        "# #Engine parameters\n",
        "# def get_engine_parameters():\n",
        "#   engine={}\n",
        "#   engine[\"mass\"]=float(input(\"Please enter the mass of the engine:\"))\n",
        "#   engine[\"BSFC\"]=float(input(\"Please enter the BSFC of the engine:\"))\n",
        "#   engine[\"shaft power conversion efficiency\"]=float(input(\"Please enter the shaft power conversion efficiency:\"))\n",
        "#   engine[\"fractional power tail rotor\"]=float(input(\"Please enter the fractional power of the tail rotor:\"))\n",
        "#   return engine"
      ]
    },
    {
      "cell_type": "markdown",
      "metadata": {
        "id": "KrklDurtrS0_"
      },
      "source": [
        "#Rotor Assembly characteristics\n"
      ]
    },
    {
      "cell_type": "code",
      "execution_count": null,
      "metadata": {
        "id": "lAx3_c7xre1o"
      },
      "outputs": [],
      "source": [
        "# def get_rotor_parameters():\n",
        "#     rotor = {}\n",
        "#     rotor[\"number_of_blades\"] = int(input(\"Please enter the number of rotors: \"))\n",
        "#     rotor[\"rotor_omega\"] = float(input(\"Please enter the angular velocity of the rotor (rad/s): \"))#rotor_omega=2*np.pi*rotor_rpm/60\n",
        "#     rotor[\"blade_mass\"] = float(input(\"Please enter the mass of the rotors (kg): \"))\n",
        "#     rotor[\"NACA_for_airfoil\"] = input(\"Please enter the NACA number of the airfoil: \")\n",
        "#     rotor[\"radius_of_rotors\"] = float(input(\"Please enter the radius of the rotors (m): \"))\n",
        "#     rotor[\"root_cutout\"] = float(input(\"Please enter the root cutout of the rotors (m): \"))\n",
        "#     rotor[\"angle_of_attack\"] = float(input(\"Please enter the angle of attack (degrees): \"))\n",
        "#     rotor[\"root_chord\"] = float(input(\"Please enter the root chord (m): \"))\n",
        "#     rotor[\"tip_chord\"] = float(input(\"Please enter the tip chord (m): \"))\n",
        "#     rotor[\"root_pitch\"] = float(input(\"Please enter the root pitch (degrees): \"))\n",
        "#     rotor[\"slope_pitch\"] = float(input(\"Please enter the slope of the pitch: \"))\n",
        "#     rotor[\"climb_velocity\"] = float(input(\"Please enter the desired climb velocity (m/s): \"))\n",
        "#     return rotor"
      ]
    },
    {
      "cell_type": "code",
      "execution_count": null,
      "metadata": {
        "colab": {
          "base_uri": "https://localhost:8080/"
        },
        "id": "6CQNPRz8TXEQ",
        "outputId": "3e3ab435-4dc4-45b8-b8da-e5aef6e5f49e"
      },
      "outputs": [
        {
          "name": "stdout",
          "output_type": "stream",
          "text": [
            "Please enter the number of rotors: 5\n",
            "Please enter the angular velocity of the rotor (rad/s): 200\n",
            "Please enter the mass of the rotors (kg): 50\n",
            "Please enter the NACA number of the airfoil: 2412\n",
            "Please enter the radius of the rotors (m): 2\n",
            "Please enter the root cutout of the rotors (m): 0.2\n",
            "Please enter the angle of attack (degrees): 5\n",
            "Please enter the root chord (m): 0.5\n",
            "Please enter the tip chord (m): 0.6\n",
            "Please enter the root pitch (degrees): 1\n",
            "Please enter the slope of the pitch: 0.1\n",
            "Please enter the desired climb velocity (m/s): 10\n"
          ]
        }
      ],
      "source": [
        "# rotor_params = get_rotor_parameters()\n",
        "\n",
        "# number_of_blades = rotor_params[\"number_of_blades\"]\n",
        "# rotor_omega = rotor_params[\"rotor_omega\"]\n",
        "# blade_mass = rotor_params[\"blade_mass\"]\n",
        "# NACA_for_airfoil = rotor_params[\"NACA_for_airfoil\"]\n",
        "# radius_of_rotors = rotor_params[\"radius_of_rotors\"]\n",
        "# root_cutout = rotor_params[\"root_cutout\"]\n",
        "# angle_of_attack = rotor_params[\"angle_of_attack\"]\n",
        "# root_chord = rotor_params[\"root_chord\"]\n",
        "# tip_chord = rotor_params[\"tip_chord\"]\n",
        "# root_pitch = rotor_params[\"root_pitch\"]\n",
        "# slope_pitch = rotor_params[\"slope_pitch\"]\n",
        "# climb_velocity = rotor_params[\"climb_velocity\"]"
      ]
    },
    {
      "cell_type": "markdown",
      "metadata": {
        "id": "IAO-9emhVqHW"
      },
      "source": [
        "#Setting atmospheric parameters"
      ]
    },
    {
      "cell_type": "code",
      "execution_count": null,
      "metadata": {
        "id": "N4hHTK3FVaK9"
      },
      "outputs": [],
      "source": [
        "# def get_atmosphere_parameters():\n",
        "#     atmosphere = {}\n",
        "\n",
        "#     atmosphere[\"temperature_sea_level\"] = float(input(\"Please enter the sea level temperature (K): \"))\n",
        "#     atmosphere[\"Reynolds_number\"] = float(input(\"Please enter the Reynolds number: \"))\n",
        "#     atmosphere[\"altitude\"] = float(input(\"Please enter the altitude (m): \"))\n",
        "#     atmosphere[\"pressure_sea_level\"] = float(input(\"Please enter the pressure at sea level (Pa): \"))\n",
        "#     atmosphere[\"Lapse_rate_troposphere\"] = float(input(\"Please enter the lapse rate of the troposphere (K/m): \"))\n",
        "#     atmosphere[\"Specific_gas_constant\"] = 287.053   # constant\n",
        "#     atmosphere[\"gravitational_acceleration\"] = 9.80665  # constant\n",
        "#     atmosphere[\"specific_heat_constant\"] = 1.4      # constant\n",
        "#     atmosphere[\"wind_velocity\"] = float(input(\"Please enter the wind velocity (m/s): \"))\n",
        "#     atmosphere[\"ISA_OFFSET\"] = float(input(\"Please enter the ISA offset (K): \"))\n",
        "#     return atmosphere\n",
        "\n"
      ]
    },
    {
      "cell_type": "code",
      "execution_count": null,
      "metadata": {},
      "outputs": [],
      "source": []
    },
    {
      "cell_type": "code",
      "execution_count": null,
      "metadata": {
        "colab": {
          "base_uri": "https://localhost:8080/"
        },
        "id": "R0lxqOlWVamo",
        "outputId": "cabcd8e6-c648-466c-ce97-69a13de6d9b9"
      },
      "outputs": [
        {
          "name": "stdout",
          "output_type": "stream",
          "text": [
            "Please enter the sea level temperature (K): 298\n",
            "Please enter the Reynolds number: 20000\n",
            "Please enter the altitude (m): 100\n",
            "Please enter the pressure at sea level (Pa): 100000\n",
            "Please enter the lapse rate of the troposphere (K/m): 5\n",
            "Please enter the wind velocity (m/s): 1\n",
            "Please enter the ISA offset (K): 2\n"
          ]
        }
      ],
      "source": [
        "# Example usage\n",
        "# atmosphere_params = get_atmosphere_parameters()\n",
        "# environment = Environment()\n",
        "# environment.get_atmosphere_parameters()\n",
        "# # Unpack into variables\n",
        "# temperature_sea_level = atmosphere_params[\"temperature_sea_level\"]\n",
        "# Reynolds_number = atmosphere_params[\"Reynolds_number\"]\n",
        "# altitude = atmosphere_params[\"altitude\"]\n",
        "# pressure_sea_level = atmosphere_params[\"pressure_sea_level\"]\n",
        "# Lapse_rate_troposphere = atmosphere_params[\"Lapse_rate_troposphere\"]\n",
        "# Specific_gas_constant = atmosphere_params[\"Specific_gas_constant\"]\n",
        "# gravitational_acceleration = atmosphere_params[\"gravitational_acceleration\"]\n",
        "# specific_heat_constant = atmosphere_params[\"specific_heat_constant\"]\n",
        "# wind_velocity = atmosphere_params[\"wind_velocity\"]\n",
        "# ISA_OFFSET = atmosphere_params[\"ISA_OFFSET\"]\n",
        "# cl=0.7\n",
        "# a=cl/angle_of_attack"
      ]
    },
    {
      "cell_type": "markdown",
      "metadata": {
        "id": "pDiNNSQPQtJf"
      },
      "source": [
        "# Computation of local parameters at a given altitude"
      ]
    },
    {
      "cell_type": "code",
      "execution_count": null,
      "metadata": {
        "id": "wfKuhCuYQtpd"
      },
      "outputs": [],
      "source": [
        "# def Temp(init_temp, ISA_Offset):\n",
        "#   T_new= temperature_sea_level+  Lapse_rate_troposphere*altitude+ ISA_OFFSET\n",
        "#   return T_new\n",
        "# def Pressure(Pressure_sea_level, T_new, Temperature_sea_level, Lapse_rate_troposphere):\n",
        "#   return Pressure_sea_level*((T_new/Temperature_sea_level)**(gravitational_acceleration/Lapse_rate_troposphere*Specific_gas_constant))\n",
        "# def speed_of_sound(temperature):    # function to calculate the speed of sound\n",
        "#   return np.sqrt(1.4*8.314*temperature)\n",
        "# def mach_number(velocity, speed_of_sound):\n",
        "#   return velocity/speed_of_sound\n",
        "# def density(temperature, pressure):\n",
        "#   return pressure/(287*temperature)"
      ]
    },
    {
      "cell_type": "markdown",
      "metadata": {
        "id": "IAhcV1MDPTQk"
      },
      "source": [
        "# Computing various coeffcients\n"
      ]
    },
    {
      "cell_type": "code",
      "execution_count": null,
      "metadata": {
        "id": "SC7ONyDHPT1T"
      },
      "outputs": [],
      "source": [
        "\n",
        "# def Cl_Cd_Cm(naca_number, alpha):\n",
        "#     # Extract coefficients\n",
        "#     cl=0.7\n",
        "#     cd=0.01\n",
        "#     cm=0.03\n",
        "#     return cl,cd,cm\n",
        "# # Function to get chord_lenth and pitch at a given location.\n",
        "# def get_chord_length( chord_length ,radius_of_rotors,root_cutout, root_chord, tip_chord, root_pitch,x):\n",
        "#   chord_length_x=(root_chord -((root_chord-tip_chord)/(radius_of_rotors-root_cutout))*x)\n",
        "#   return chord_length_x\n",
        "# def pitch(root_pitch,slope_pitch ,x): # Basically involving twists\n",
        "#   local_pitch= root_pitch+ slope_pitch*x\n",
        "#   return local_pitch"
      ]
    },
    {
      "cell_type": "markdown",
      "metadata": {
        "id": "WzwmTA_P9Rd5"
      },
      "source": [
        "#Inflow for each blade section elementally"
      ]
    },
    {
      "cell_type": "markdown",
      "metadata": {
        "id": "-pzHFY54Gpl3"
      },
      "source": [
        "$$\n",
        "\\lambda =\n",
        "\\sqrt{\n",
        "\\left( \\frac{\\sigma a}{16F} - \\frac{\\lambda_c}{2} \\right)^2\n",
        "+ \\frac{\\sigma a}{8F} \\, \\theta \\, \\frac{r}{R}\n",
        "}- \\left( \\frac{\\sigma a}{16F} - \\frac{\\lambda_c}{2} \\right)\n",
        "$$\n",
        "\n",
        "$$\n",
        "\\text{where,} \\quad\n",
        "\\lambda_c = \\frac{V}{\\Omega R},\n",
        "\\quad\n",
        "\\lambda = \\frac{V + v}{\\Omega R}\n",
        "$$\n",
        "\n",
        "$$\n",
        "F = \\frac{2}{\\pi}cos^{-1}(e^{-f})    ; where  f = \\frac{b(1-\\frac{r}{R})}{\\lambda} \\\\\n",
        "dT = 4\\pi\\rho rF(V+v)vdr = 4\\pi\\rho rF(\\lambda ω r)(λωr - V)dr \\\\\n",
        "T\\ =\\ b\\int_{Rc}^{R}dT\n",
        "$$"
      ]
    },
    {
      "cell_type": "markdown",
      "metadata": {
        "id": "J2Vn3FbncNEs"
      },
      "source": [
        "* we also include prandtl's tip loss model in the inflow ratio formula\n",
        "* Since Lambda is dependent on F and f further is dependent on lamda we have to iteratively find out the value of Lambda until solutuion stabilizes."
      ]
    },
    {
      "cell_type": "markdown",
      "metadata": {
        "id": "J45kiwNnQfZn"
      },
      "source": [
        "#Define some useful parameters"
      ]
    },
    {
      "cell_type": "code",
      "execution_count": null,
      "metadata": {
        "id": "Z5rskB1yQmLW"
      },
      "outputs": [],
      "source": [
        "#  # since the blade is in the form of trapeziumlambda_c=climb_velocity/(rotor_omega*radius_of_rotors)\n",
        "# sigma=(number_of_blades*(0.5*(root_chord+tip_chord)*(radius_of_rotors- root_cutout)))/(np.pi*(radius_of_rotors**2))"
      ]
    },
    {
      "cell_type": "code",
      "execution_count": null,
      "metadata": {
        "id": "CRAcF6byjZBq"
      },
      "outputs": [],
      "source": [
        "# def elemental_inflow_ratio(r_distance, max_iter=100):\n",
        "#     # Initial guess values to start with\n",
        "#     F = 1.1\n",
        "\n",
        "#     lambda_inflow = 0.2\n",
        "\n",
        "#     for i in range(max_iter):\n",
        "#         theta = pitch(root_pitch, slope_pitch, r_distance)\n",
        "\n",
        "#         #  geting the  Cl (lift coefficient)\n",
        "\n",
        "\n",
        "#         # Update lambda_inflow using current F\n",
        "#         new_lambda_inflow = (\n",
        "#             np.sqrt(((sigma * a) / (16 * F) - (lambda_c / 2))**2\n",
        "#                     + (sigma * a) / (8 * F) * theta * (r_distance / radius_of_rotors))\n",
        "#             - ((sigma * a) / (16 * F) - (lambda_c / 2))\n",
        "#         )\n",
        "\n",
        "\n",
        "#         # Update F using the new lambda_inflow (Gauss–Seidel step)\n",
        "#         f = (number_of_blades / 2) * ((1 - r_distance / radius_of_rotors) / new_lambda_inflow)\n",
        "\n",
        "#         new_F = (2 / np.pi) * np.arccos(np.exp(-f))\n",
        "\n",
        "\n",
        "#         # Check convergence\n",
        "#         \"\"\"if abs(new_lambda_inflow - lambda_inflow) < tol and abs(new_F - F) < tol:\n",
        "#             return new_lambda_inflow, new_F\n",
        "\n",
        "#         # Update values for next iteration\n",
        "#         lambda_inflow, F = new_lambda_inflow, new_F\"\"\"\n",
        "\n",
        "#     return lambda_inflow, F\n"
      ]
    },
    {
      "cell_type": "markdown",
      "metadata": {
        "id": "xzmXgVWMUQbQ"
      },
      "source": [
        "# Calculating the thrust from all rotors"
      ]
    },
    {
      "cell_type": "code",
      "execution_count": null,
      "metadata": {
        "id": "3KjusZ-jUWc7"
      },
      "outputs": [],
      "source": [
        "# # we now compute the elemental thrust\n",
        "# def elemental_thrust(r_distance,dr):\n",
        "#   c,b=elemental_inflow_ratio(r_distance)\n",
        "#   density=5\n",
        "#   dT=4*np.pi*density*r_distance*(c*rotor_omega*radius_of_rotors)*((c*rotor_omega*radius_of_rotors)-climb_velocity)*dr\n",
        "#   return dT\n",
        "# def total_thrust(n_divisions, number_of_blades):\n",
        "#   r=np.linspace(root_cutout, radius_of_rotors, n_divisions)\n",
        "#   delta_r=r[1]-r[0]\n",
        "#   store_dT=[]\n",
        "#   for i in range(1, n_divisions-1):\n",
        "#     store_dT.append(elemental_thrust(r[i],delta_r))\n",
        "#   net_thrust=number_of_blades*np.sum(store_dT)\n",
        "#   return net_thrust"
      ]
    },
    {
      "cell_type": "code",
      "execution_count": null,
      "metadata": {
        "colab": {
          "base_uri": "https://localhost:8080/"
        },
        "id": "OS41NDH6wyI-",
        "outputId": "42db94e5-1144-4344-d270-9de380af59b0"
      },
      "outputs": [
        {
          "data": {
            "text/plain": [
              "np.float64(1364923.2722156523)"
            ]
          },
          "execution_count": 30,
          "metadata": {},
          "output_type": "execute_result"
        }
      ],
      "source": [
        "# total_thrust(50,2)"
      ]
    },
    {
      "cell_type": "code",
      "execution_count": 21,
      "metadata": {},
      "outputs": [],
      "source": [
        "rotor = Rotor()\n",
        "rotor.get_rotor_parameters()\n"
      ]
    },
    {
      "cell_type": "code",
      "execution_count": null,
      "metadata": {},
      "outputs": [
        {
          "data": {
            "text/plain": [
              "np.float64(3412308.1805391307)"
            ]
          },
          "execution_count": 23,
          "metadata": {},
          "output_type": "execute_result"
        }
      ],
      "source": [
        "print(rotor.total_thrust(climb_velocity=10, n_divisions=50))"
      ]
    },
    {
      "cell_type": "code",
      "execution_count": null,
      "metadata": {},
      "outputs": [],
      "source": [
        "\n"
      ]
    },
    {
      "cell_type": "code",
      "execution_count": null,
      "metadata": {},
      "outputs": [
        {
          "name": "stdout",
          "output_type": "stream",
          "text": [
            "3412308.1805391307\n"
          ]
        }
      ],
      "source": []
    },
    {
      "cell_type": "code",
      "execution_count": null,
      "metadata": {},
      "outputs": [
        {
          "data": {
            "text/plain": [
              "3282.806350011744"
            ]
          },
          "execution_count": 20,
          "metadata": {},
          "output_type": "execute_result"
        }
      ],
      "source": []
    },
    {
      "cell_type": "code",
      "execution_count": null,
      "metadata": {},
      "outputs": [],
      "source": []
    }
  ],
  "metadata": {
    "colab": {
      "provenance": []
    },
    "kernelspec": {
      "display_name": "Code",
      "language": "python",
      "name": "python3"
    },
    "language_info": {
      "codemirror_mode": {
        "name": "ipython",
        "version": 3
      },
      "file_extension": ".py",
      "mimetype": "text/x-python",
      "name": "python",
      "nbconvert_exporter": "python",
      "pygments_lexer": "ipython3",
      "version": "3.12.3"
    }
  },
  "nbformat": 4,
  "nbformat_minor": 0
}
